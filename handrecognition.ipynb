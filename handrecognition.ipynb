{
 "cells": [
  {
   "cell_type": "code",
   "execution_count": 1,
   "metadata": {},
   "outputs": [],
   "source": [
    "import tensorflow as tf"
   ]
  },
  {
   "cell_type": "code",
   "execution_count": null,
   "metadata": {},
   "outputs": [],
   "source": [
    "import numpy as np\n",
    "import tensorflow as tf\n",
    "def get_input_fn(dataset_split, batch_size, capacity=10000, min_after_dequeue=3000):\n",
    "  def _input_fn():\n",
    "    images_batch, labels_batch = tf.train.shuffle_batch(\n",
    "        tensors=[dataset_split.images, dataset_split.labels.astype(np.int32)],\n",
    "        batch_size=batch_size,\n",
    "        capacity=capacity,\n",
    "        min_after_dequeue=min_after_dequeue,\n",
    "        enqueue_many=True,\n",
    "        num_threads=4)\n",
    "    features_map = {'images': images_batch}\n",
    "    return features_map, labels_batch\n",
    "  return _input_fn\n",
    "data = tf.contrib.learn.datasets.mnist.load_mnist()\n",
    "train_input_fn = get_input_fn(data.train, batch_size=256)\n",
    "eval_input_fn = get_input_fn(data.validation, batch_size=5000)"
   ]
  },
  {
   "cell_type": "code",
   "execution_count": null,
   "metadata": {},
   "outputs": [],
   "source": [
    "image_column = tf.contrib.layers.real_valued_column('images', dimension=784)"
   ]
  },
  {
   "cell_type": "code",
   "execution_count": null,
   "metadata": {},
   "outputs": [],
   "source": [
    "import time\n",
    "image_column = tf.contrib.layers.real_valued_column('images', dimension=784)\n",
    "estimator = tf.contrib.learn.LinearClassifier(feature_columns=[image_column], n_classes=10)\n",
    "start = time.time()\n",
    "estimator.fit(input_fn=train_input_fn, steps=2000)\n",
    "end = time.time()\n",
    "print('Elapsed time: {} seconds'.format(end - start))\n",
    "eval_metrics = estimator.evaluate(input_fn=eval_input_fn, steps=1)\n",
    "print(eval_metrics)"
   ]
  },
  {
   "cell_type": "code",
   "execution_count": null,
   "metadata": {},
   "outputs": [],
   "source": []
  }
 ],
 "metadata": {
  "kernelspec": {
   "display_name": "Python 3",
   "language": "python",
   "name": "python3"
  },
  "language_info": {
   "codemirror_mode": {
    "name": "ipython",
    "version": 3
   },
   "file_extension": ".py",
   "mimetype": "text/x-python",
   "name": "python",
   "nbconvert_exporter": "python",
   "pygments_lexer": "ipython3",
   "version": "3.7.3"
  }
 },
 "nbformat": 4,
 "nbformat_minor": 2
}
